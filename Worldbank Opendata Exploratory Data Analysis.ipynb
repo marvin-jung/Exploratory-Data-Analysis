{
 "cells": [
  {
   "cell_type": "code",
   "execution_count": null,
   "metadata": {
    "deletable": false,
    "editable": false,
    "run_control": {
     "frozen": true
    }
   },
   "outputs": [],
   "source": [
    "\"\"\"\"\n",
    "Created on Sept 2020\n",
    "\n",
    "Data Science: Python - DAT-5301 - MsBA3\n",
    "\n",
    "Team 12: Ji Sung Jung, Mayank Taggar, Paola Avellanet, Percival Sibanda and Raquel Calháo\n",
    "\"\"\""
   ]
  },
  {
   "cell_type": "markdown",
   "metadata": {
    "deletable": false,
    "editable": false
   },
   "source": [
    "# <b> &nbsp;&nbsp;Overview </b>"
   ]
  },
  {
   "cell_type": "markdown",
   "metadata": {
    "cell_style": "center"
   },
   "source": [
    "<div style = \"width:image width px; font-size:80%; text-align:center;\"><img src=\"./images/Mexico.jpeg\"\n",
    "\" width=\"800\" height=\"800\" style=\"padding-bottom:0.5em;\"> <em>Figure 1: North America </em></div>"
   ]
  },
  {
   "cell_type": "markdown",
   "metadata": {
    "cell_style": "center",
    "deletable": false,
    "editable": false
   },
   "source": [
    "<br> Welcome to America a continent full of diversity and history. Starting in North America there’s Canada the biggest country in the Western Hemisphere a country known for its progressive political culture. Rich in nature one of their most famous sights being the Niagara Falls bordering Ontario and New York. United States the only country bordering Canada so close yet so different in many aspects. The United States is a country build on immigrants thus becoming “land of the free” known around the world for welcoming different countries. This concept has been distorted in the last couple of years but hopefully will return to its original “glory”. Most of the immigrants in the USA come from Latin America since it shared the border with Mexico. Latin America is a culture full of hospitality and warmth known for their great music and the amazing dance moves that go with it. Fostering one of the seven wonders of the world Chichen Itza a pre-Columbian city built by the Maya people in Yucatán, Mexico.\n",
    "<br>\n"
   ]
  },
  {
   "cell_type": "markdown",
   "metadata": {
    "deletable": false,
    "editable": false,
    "id": "1DIsq5r29W4G"
   },
   "source": [
    "# <b> &nbsp;&nbsp;Obscure findings in the data. </b>"
   ]
  },
  {
   "cell_type": "markdown",
   "metadata": {},
   "source": [
    "<br>\n",
    "During our analysis into the dataset we had been given we noticed that a large chuck of Bermuda’s data was missing. When we investigated into this country, we found out some interesting things. Firstly, we were only able to find a few missing values through research, but a lot of the data was still missing. This led us to suspect that they were not being released due to other reasons. Once we looked into the background of Bermuda, we found facts and figures that changed our initial perception of the data. \n",
    "<br><br>\n",
    "Boasting one of the highest per capita incomes in the world you would assume that they are a specialized skilled country but this is due to the offshore financial services for non-resident firms, especially in the Insurance sector, and it being a popular international tourism destination. Further investigation into their labor force revealed a much more interesting picture in which we were able to see what industries and sectors Bermudians and Expats to Bermuda work in. \n",
    "<br><br>\n",
    "According to the 2020 edition of The Bermuda Job Market Employment Briefs which is based on data collected from the 2019 Employment Survey we see that 34,378 jobs were filled by Bermudian and Non-Bermudians. The leading sectors that year were International Business Activity, Public Administration, Business Services, and Education, Health and Social Work but the interesting analysis is the differences in their median gross annual income. Jobs in the International Business Activity sector had a figure of 141,153 dolars with the next closest sector being Financial Intermediation with 89,628 dolars. This is almost more than double the Public Administration figure of $76,878. A look into the labour force of Bermuda reveals that a majority of local employment is in service industry sectors such as Hospitality and Tourism. This suggests that the wealthy and high-income individuals are more likely to be citizens who were born foreign national and became Bermudian which is reflected in the data. It is also important to note that Bermuda has historically been a tax haven for affluent individuals, and this has attracted a lot of foreign financial activity and investment.\n",
    "<br><br>\n",
    "We also noticed a pattern that countries with a high life expectancy are also countries with Middle to High GDP per Capita. Three countries in our dataset appear to align with this hypothesis, Bermuda, Canada, and The United States. Though initially Costa Rica seems to be an anomaly as a Low GDP per Capita with a higher life expectancy but this can be attributed to the government funded national healthcare insurance scheme covers majority of the population.\n",
    "Beyond that most of our data was in line with the region and gave us a fairly accurate insight into the characteristics of our region.\n",
    "\n",
    "<br>\n"
   ]
  },
  {
   "cell_type": "markdown",
   "metadata": {
    "deletable": false,
    "editable": false,
    "id": "1DIsq5r29W4G"
   },
   "source": [
    "# <b> &nbsp;&nbsp;Conduct an exploratory data analysis </b>"
   ]
  },
  {
   "cell_type": "markdown",
   "metadata": {
    "deletable": false,
    "editable": false,
    "id": "bhqh3zsXUPT8"
   },
   "source": [
    "## <b> Data import from excel </b>\n",
    "\n"
   ]
  },
  {
   "cell_type": "markdown",
   "metadata": {
    "deletable": false,
    "editable": false
   },
   "source": [
    "**Please run all the code to experience an interactive report**"
   ]
  },
  {
   "cell_type": "code",
   "execution_count": 1,
   "metadata": {
    "colab": {
     "base_uri": "https://localhost:8080/"
    },
    "id": "2wJqFmcrseHj",
    "outputId": "d3fc2feb-74e2-4f55-bd6a-ad63724265ca"
   },
   "outputs": [
    {
     "name": "stdout",
     "output_type": "stream",
     "text": [
      "                   Country Code Total         Income Group  \\\n",
      "Country Name                                                 \n",
      "Afghanistan                       AFG           Low income   \n",
      "Albania                           ALB  Upper middle income   \n",
      "Algeria                           DZA  Lower middle income   \n",
      "American Samoa                    ASM  Upper middle income   \n",
      "Andorra                           AND          High income   \n",
      "...                               ...                  ...   \n",
      "West Bank and Gaza                PSE  Lower middle income   \n",
      "World                             WLD                  NaN   \n",
      "Yemen, Rep.                       YEM           Low income   \n",
      "Zambia                            ZMB  Lower middle income   \n",
      "Zimbabwe                          ZWE  Lower middle income   \n",
      "\n",
      "                                    Hult Region        Cool Name  \\\n",
      "Country Name                                                       \n",
      "Afghanistan                Middle East & Russia           Mirage   \n",
      "Albania                          Eastern Europe  Skids & Mudflap   \n",
      "Algeria             Northern Sub-Saharan Africa        Bumblebee   \n",
      "American Samoa              Australia & Oceania      Cliffhanger   \n",
      "Andorra                          Eastern Europe  Skids & Mudflap   \n",
      "...                                         ...              ...   \n",
      "West Bank and Gaza            Arabian Peninsula        Wheeljack   \n",
      "World                                     World   Sentinel Prime   \n",
      "Yemen, Rep.                   Arabian Peninsula        Wheeljack   \n",
      "Zambia                        East/South Africa             Jazz   \n",
      "Zimbabwe                      East/South Africa             Jazz   \n",
      "\n",
      "                    Adolescent fertility rate (births per 1,000 women ages 15-19)  \\\n",
      "Country Name                                                                        \n",
      "Afghanistan                                                  111.1414               \n",
      "Albania                                                       18.9116               \n",
      "Algeria                                                       10.0608               \n",
      "American Samoa                                                    NaN               \n",
      "Andorra                                                           NaN               \n",
      "...                                                               ...               \n",
      "West Bank and Gaza                                            64.8200               \n",
      "World                                                         47.5876               \n",
      "Yemen, Rep.                                                   74.8144               \n",
      "Zambia                                                       112.3656               \n",
      "Zimbabwe                                                     116.0894               \n",
      "\n",
      "                    CO2 emissions (metric tons per capita)  \\\n",
      "Country Name                                                 \n",
      "Afghanistan                                       0.154101   \n",
      "Albania                                           1.484311   \n",
      "Algeria                                           3.161381   \n",
      "American Samoa                                         NaN   \n",
      "Andorra                                           6.427887   \n",
      "...                                                    ...   \n",
      "West Bank and Gaza                                0.570947   \n",
      "World                                             4.756160   \n",
      "Yemen, Rep.                                       0.999238   \n",
      "Zambia                                            0.165936   \n",
      "Zimbabwe                                          0.573101   \n",
      "\n",
      "                    Contributing family workers, total (% of total employment)  \\\n",
      "Country Name                                                                     \n",
      "Afghanistan                                                 28.861000            \n",
      "Albania                                                     28.785000            \n",
      "Algeria                                                      3.192000            \n",
      "American Samoa                                                    NaN            \n",
      "Andorra                                                           NaN            \n",
      "...                                                               ...            \n",
      "West Bank and Gaza                                           9.933000            \n",
      "World                                                       13.177376            \n",
      "Yemen, Rep.                                                 11.129000            \n",
      "Zambia                                                      36.049000            \n",
      "Zimbabwe                                                     8.430000            \n",
      "\n",
      "                    Employment to population ratio, 15+, female (%) (modeled ILO estimate)  \\\n",
      "Country Name                                                                                 \n",
      "Afghanistan                                                 12.922000                        \n",
      "Albania                                                     40.375000                        \n",
      "Algeria                                                     11.348000                        \n",
      "American Samoa                                                    NaN                        \n",
      "Andorra                                                           NaN                        \n",
      "...                                                               ...                        \n",
      "West Bank and Gaza                                          12.109000                        \n",
      "World                                                       47.197969                        \n",
      "Yemen, Rep.                                                  7.088000                        \n",
      "Zambia                                                      66.089996                        \n",
      "Zimbabwe                                                    73.188004                        \n",
      "\n",
      "                    Employment to population ratio, 15+, male (%) (modeled ILO estimate)  \\\n",
      "Country Name                                                                               \n",
      "Afghanistan                                                 79.792999                      \n",
      "Albania                                                     55.511002                      \n",
      "Algeria                                                     63.158001                      \n",
      "American Samoa                                                    NaN                      \n",
      "Andorra                                                           NaN                      \n",
      "...                                                               ...                      \n",
      "West Bank and Gaza                                          50.592999                      \n",
      "World                                                       72.870059                      \n",
      "Yemen, Rep.                                                 61.525002                      \n",
      "Zambia                                                      77.431999                      \n",
      "Zimbabwe                                                    84.484001                      \n",
      "\n",
      "                    Employment to population ratio, 15+, total (%) (modeled ILO estimate)  \\\n",
      "Country Name                                                                                \n",
      "Afghanistan                                                 47.433998                       \n",
      "Albania                                                     47.870998                       \n",
      "Algeria                                                     37.411999                       \n",
      "American Samoa                                                    NaN                       \n",
      "Andorra                                                           NaN                       \n",
      "...                                                               ...                       \n",
      "West Bank and Gaza                                          31.524000                       \n",
      "World                                                       60.016979                       \n",
      "Yemen, Rep.                                                 34.396000                       \n",
      "Zambia                                                      71.633003                       \n",
      "Zimbabwe                                                    78.574997                       \n",
      "\n",
      "                    ...  Mobile cellular subscriptions (per 100 people)  \\\n",
      "Country Name        ...                                                   \n",
      "Afghanistan         ...                                       28.940060   \n",
      "Albania             ...                                       62.160727   \n",
      "Algeria             ...                                       77.541359   \n",
      "American Samoa      ...                                             NaN   \n",
      "Andorra             ...                                       76.557637   \n",
      "...                 ...                                             ...   \n",
      "West Bank and Gaza  ...                                       34.119944   \n",
      "World               ...                                       59.450733   \n",
      "Yemen, Rep.         ...                                       28.828446   \n",
      "Zambia              ...                                       27.051392   \n",
      "Zimbabwe            ...                                       12.204335   \n",
      "\n",
      "                    Mortality rate, infant (per 1,000 live births)  \\\n",
      "Country Name                                                         \n",
      "Afghanistan                                                   70.6   \n",
      "Albania                                                       12.3   \n",
      "Algeria                                                       25.3   \n",
      "American Samoa                                                 NaN   \n",
      "Andorra                                                        3.9   \n",
      "...                                                            ...   \n",
      "West Bank and Gaza                                            20.7   \n",
      "World                                                         40.1   \n",
      "Yemen, Rep.                                                   47.2   \n",
      "Zambia                                                        57.9   \n",
      "Zimbabwe                                                      59.1   \n",
      "\n",
      "                    Net ODA received per capita (current US$)  \\\n",
      "Country Name                                                    \n",
      "Afghanistan                                        178.604619   \n",
      "Albania                                            123.787286   \n",
      "Algeria                                              9.317939   \n",
      "American Samoa                                            NaN   \n",
      "Andorra                                                   NaN   \n",
      "...                                                       ...   \n",
      "West Bank and Gaza                                 686.765157   \n",
      "World                                               18.693446   \n",
      "Yemen, Rep.                                         19.194511   \n",
      "Zambia                                              85.205316   \n",
      "Zimbabwe                                            45.193156   \n",
      "\n",
      "                    Population, total  \\\n",
      "Country Name                            \n",
      "Afghanistan                  27294031   \n",
      "Albania                       2947314   \n",
      "Algeria                      34860715   \n",
      "American Samoa                  57030   \n",
      "Andorra                         83861   \n",
      "...                               ...   \n",
      "West Bank and Gaza            3596688   \n",
      "World                      6766296679   \n",
      "Yemen, Rep.                  22356391   \n",
      "Zambia                       13082517   \n",
      "Zimbabwe                     13558469   \n",
      "\n",
      "                    Prevalence of undernourishment (% of population)  \\\n",
      "Country Name                                                           \n",
      "Afghanistan                                                     24.6   \n",
      "Albania                                                          9.7   \n",
      "Algeria                                                          7.5   \n",
      "American Samoa                                                   NaN   \n",
      "Andorra                                                          NaN   \n",
      "...                                                              ...   \n",
      "West Bank and Gaza                                               NaN   \n",
      "World                                                           12.3   \n",
      "Yemen, Rep.                                                     27.1   \n",
      "Zambia                                                          53.0   \n",
      "Zimbabwe                                                        36.0   \n",
      "\n",
      "                    Proportion of seats held by women in national parliaments (%)  \\\n",
      "Country Name                                                                        \n",
      "Afghanistan                                                 27.700000               \n",
      "Albania                                                      7.100000               \n",
      "Algeria                                                      7.700000               \n",
      "American Samoa                                                    NaN               \n",
      "Andorra                                                     25.000000               \n",
      "...                                                               ...               \n",
      "West Bank and Gaza                                                NaN               \n",
      "World                                                       18.445654               \n",
      "Yemen, Rep.                                                  0.300000               \n",
      "Zambia                                                      15.200000               \n",
      "Zimbabwe                                                    15.200000               \n",
      "\n",
      "                    School enrollment, primary (% net)  \\\n",
      "Country Name                                             \n",
      "Afghanistan                                        NaN   \n",
      "Albania                                      87.151161   \n",
      "Algeria                                      96.315590   \n",
      "American Samoa                                     NaN   \n",
      "Andorra                                            NaN   \n",
      "...                                                ...   \n",
      "West Bank and Gaza                           83.664352   \n",
      "World                                        88.672829   \n",
      "Yemen, Rep.                                  75.629082   \n",
      "Zambia                                       90.062424   \n",
      "Zimbabwe                                           NaN   \n",
      "\n",
      "                    Self-employed, total (% of total employment)  \\\n",
      "Country Name                                                       \n",
      "Afghanistan                                            72.320000   \n",
      "Albania                                                59.299999   \n",
      "Algeria                                                33.691002   \n",
      "American Samoa                                               NaN   \n",
      "Andorra                                                      NaN   \n",
      "...                                                          ...   \n",
      "West Bank and Gaza                                     46.346001   \n",
      "World                                                  48.506807   \n",
      "Yemen, Rep.                                            42.109001   \n",
      "Zambia                                                 80.125999   \n",
      "Zimbabwe                                               72.564003   \n",
      "\n",
      "                    Trade (% of GDP)  \\\n",
      "Country Name                           \n",
      "Afghanistan                73.065520   \n",
      "Albania                    77.451711   \n",
      "Algeria                    76.684522   \n",
      "American Samoa            247.779751   \n",
      "Andorra                          NaN   \n",
      "...                              ...   \n",
      "West Bank and Gaza         87.065258   \n",
      "World                      60.941431   \n",
      "Yemen, Rep.                81.244707   \n",
      "Zambia                     59.454889   \n",
      "Zimbabwe                  109.521637   \n",
      "\n",
      "                    Tuberculosis death rate (per 100,000 people), including HIV  \n",
      "Country Name                                                                     \n",
      "Afghanistan                                                      40.0            \n",
      "Albania                                                           0.7            \n",
      "Algeria                                                           8.1            \n",
      "American Samoa                                                    0.5            \n",
      "Andorra                                                           NaN            \n",
      "...                                                               ...            \n",
      "West Bank and Gaza                                                NaN            \n",
      "World                                                            22.0            \n",
      "Yemen, Rep.                                                      11.0            \n",
      "Zambia                                                           32.0            \n",
      "Zimbabwe                                                         25.0            \n",
      "\n",
      "[217 rows x 30 columns]\n"
     ]
    }
   ],
   "source": [
    "# Importing packages and loading data\n",
    "import pandas as pd\n",
    "import numpy as np\n",
    "import matplotlib.pyplot as plt\n",
    "import seaborn as sns\n",
    "\n",
    "# storing the path to the dataset\n",
    "file = \"./datasets/Team_12_dataset.xlsx\"\n",
    "\n",
    "# Reading the file into Python through pandas\n",
    "raw_excel = pd.read_excel(io          = file,\n",
    "                          sheet_name  = 'Data')\n",
    "\n",
    "country_df = pd.read_excel(io          = file,\n",
    "                           sheet_name  = 'Country - Metadata')\n",
    "\n",
    "# Merge income group with raw dataset\n",
    "country_income = country_df.loc[:, ['Code', 'Income Group']]\n",
    "country_income.columns = ['Country Code Total', 'Income Group']\n",
    "copy_excel = country_income.merge(raw_excel, on = 'Country Code Total').set_index('Country Name')\n",
    "\n",
    "# Slice columns after team's discussion\n",
    "worldbank = copy_excel.iloc[:, [0, 1, 2, 3, 6, 9, 12, 13, 14, 15, 16, 17, 18, 20, 21, 22, 23, 26, 27, 29, 30, 31, 32, 33, 37, 39, 41, 42, 43, 44]]\n",
    "\n",
    "print(worldbank)"
   ]
  },
  {
   "cell_type": "code",
   "execution_count": 2,
   "metadata": {
    "colab": {
     "base_uri": "https://localhost:8080/"
    },
    "deletable": false,
    "editable": false,
    "id": "z8UZWpcxSvm6",
    "outputId": "beb96318-5724-4343-aeb0-77505f904c70"
   },
   "outputs": [
    {
     "name": "stdout",
     "output_type": "stream",
     "text": [
      "              Country Code Total         Income Group  \\\n",
      "Country Name                                            \n",
      "Belize                       BLZ  Upper middle income   \n",
      "Bermuda                      BMU          High income   \n",
      "Canada                       CAN          High income   \n",
      "Costa Rica                   CRI  Upper middle income   \n",
      "El Salvador                  SLV  Lower middle income   \n",
      "Guatemala                    GTM  Upper middle income   \n",
      "Honduras                     HND  Lower middle income   \n",
      "Mexico                       MEX  Upper middle income   \n",
      "Nicaragua                    NIC  Lower middle income   \n",
      "Panama                       PAN          High income   \n",
      "United States                USA          High income   \n",
      "\n",
      "                                         Hult Region Cool Name  \\\n",
      "Country Name                                                     \n",
      "Belize         North America & Part of Latin America   Hot Rod   \n",
      "Bermuda        North America & Part of Latin America   Hot Rod   \n",
      "Canada         North America & Part of Latin America   Hot Rod   \n",
      "Costa Rica     North America & Part of Latin America   Hot Rod   \n",
      "El Salvador    North America & Part of Latin America   Hot Rod   \n",
      "Guatemala      North America & Part of Latin America   Hot Rod   \n",
      "Honduras       North America & Part of Latin America   Hot Rod   \n",
      "Mexico         North America & Part of Latin America   Hot Rod   \n",
      "Nicaragua      North America & Part of Latin America   Hot Rod   \n",
      "Panama         North America & Part of Latin America   Hot Rod   \n",
      "United States  North America & Part of Latin America   Hot Rod   \n",
      "\n",
      "               Adolescent fertility rate (births per 1,000 women ages 15-19)  \\\n",
      "Country Name                                                                   \n",
      "Belize                                                   74.8850               \n",
      "Bermuda                                                      NaN               \n",
      "Canada                                                   13.4188               \n",
      "Costa Rica                                               63.4048               \n",
      "El Salvador                                              80.6998               \n",
      "Guatemala                                                87.0182               \n",
      "Honduras                                                 89.4986               \n",
      "Mexico                                                   69.4300               \n",
      "Nicaragua                                               102.3200               \n",
      "Panama                                                   87.7162               \n",
      "United States                                            37.1798               \n",
      "\n",
      "               CO2 emissions (metric tons per capita)  \\\n",
      "Country Name                                            \n",
      "Belize                                       1.425287   \n",
      "Bermuda                                      9.943759   \n",
      "Canada                                      16.875198   \n",
      "Costa Rica                                   1.835359   \n",
      "El Salvador                                  1.071239   \n",
      "Guatemala                                    0.816060   \n",
      "Honduras                                     1.101592   \n",
      "Mexico                                       4.339644   \n",
      "Nicaragua                                    0.790490   \n",
      "Panama                                       2.097206   \n",
      "United States                               18.461764   \n",
      "\n",
      "               Contributing family workers, total (% of total employment)  \\\n",
      "Country Name                                                                \n",
      "Belize                                                     4.622            \n",
      "Bermuda                                                      NaN            \n",
      "Canada                                                     0.157            \n",
      "Costa Rica                                                 1.550            \n",
      "El Salvador                                                6.753            \n",
      "Guatemala                                                 12.470            \n",
      "Honduras                                                  10.881            \n",
      "Mexico                                                     6.422            \n",
      "Nicaragua                                                 11.802            \n",
      "Panama                                                     3.212            \n",
      "United States                                              0.091            \n",
      "\n",
      "               Employment to population ratio, 15+, female (%) (modeled ILO estimate)  \\\n",
      "Country Name                                                                            \n",
      "Belize                                                 43.487000                        \n",
      "Bermuda                                                      NaN                        \n",
      "Canada                                                 58.484001                        \n",
      "Costa Rica                                             43.341999                        \n",
      "El Salvador                                            44.894001                        \n",
      "Guatemala                                              42.537998                        \n",
      "Honduras                                               40.439999                        \n",
      "Mexico                                                 41.050999                        \n",
      "Nicaragua                                              42.946999                        \n",
      "Panama                                                 44.758999                        \n",
      "United States                                          55.293999                        \n",
      "\n",
      "               Employment to population ratio, 15+, male (%) (modeled ILO estimate)  \\\n",
      "Country Name                                                                          \n",
      "Belize                                                 77.730003                      \n",
      "Bermuda                                                      NaN                      \n",
      "Canada                                                 67.817001                      \n",
      "Costa Rica                                             76.067001                      \n",
      "El Salvador                                            73.718002                      \n",
      "Guatemala                                              85.154999                      \n",
      "Honduras                                               82.817001                      \n",
      "Mexico                                                 78.024002                      \n",
      "Nicaragua                                              77.428001                      \n",
      "Panama                                                 79.087997                      \n",
      "United States                                          67.422997                      \n",
      "\n",
      "               Employment to population ratio, 15+, total (%) (modeled ILO estimate)  \\\n",
      "Country Name                                                                           \n",
      "Belize                                                 60.573002                       \n",
      "Bermuda                                                      NaN                       \n",
      "Canada                                                 63.081001                       \n",
      "Costa Rica                                             59.625999                       \n",
      "El Salvador                                            58.091999                       \n",
      "Guatemala                                              62.907001                       \n",
      "Honduras                                               61.257999                       \n",
      "Mexico                                                 59.247002                       \n",
      "Nicaragua                                              59.609001                       \n",
      "Panama                                                 61.917000                       \n",
      "United States                                          61.227001                       \n",
      "\n",
      "               ...  Mobile cellular subscriptions (per 100 people)  \\\n",
      "Country Name   ...                                                   \n",
      "Belize         ...                                       52.269854   \n",
      "Bermuda        ...                                      122.243714   \n",
      "Canada         ...                                       66.136204   \n",
      "Costa Rica     ...                                       42.590960   \n",
      "El Salvador    ...                                      113.753856   \n",
      "Guatemala      ...                                      106.727469   \n",
      "Honduras       ...                                       78.889633   \n",
      "Mexico         ...                                       66.252218   \n",
      "Nicaragua      ...                                       55.554539   \n",
      "Panama         ...                                      111.346632   \n",
      "United States  ...                                       86.131291   \n",
      "\n",
      "               Mortality rate, infant (per 1,000 live births)  \\\n",
      "Country Name                                                    \n",
      "Belize                                                   17.0   \n",
      "Bermuda                                                   NaN   \n",
      "Canada                                                    5.0   \n",
      "Costa Rica                                                9.0   \n",
      "El Salvador                                              18.2   \n",
      "Guatemala                                                31.1   \n",
      "Honduras                                                 21.8   \n",
      "Mexico                                                   15.8   \n",
      "Nicaragua                                                21.1   \n",
      "Panama                                                   18.2   \n",
      "United States                                             6.5   \n",
      "\n",
      "               Net ODA received per capita (current US$)  Population, total  \\\n",
      "Country Name                                                                  \n",
      "Belize                                         77.899172             306165   \n",
      "Bermuda                                              NaN              65273   \n",
      "Canada                                               NaN           33245773   \n",
      "Costa Rica                                     15.669912            4429508   \n",
      "El Salvador                                    38.376178            6110301   \n",
      "Guatemala                                      38.210482           14006366   \n",
      "Honduras                                       71.937584            7872658   \n",
      "Mexico                                          1.300437          113661809   \n",
      "Nicaragua                                     132.006293            5594506   \n",
      "Panama                                          8.457831            3516268   \n",
      "United States                                        NaN          304093966   \n",
      "\n",
      "               Prevalence of undernourishment (% of population)  \\\n",
      "Country Name                                                      \n",
      "Belize                                                      5.5   \n",
      "Bermuda                                                    11.7   \n",
      "Canada                                                      2.5   \n",
      "Costa Rica                                                  5.1   \n",
      "El Salvador                                                11.6   \n",
      "Guatemala                                                  15.9   \n",
      "Honduras                                                   15.6   \n",
      "Mexico                                                      4.6   \n",
      "Nicaragua                                                  22.1   \n",
      "Panama                                                     16.5   \n",
      "United States                                               2.5   \n",
      "\n",
      "               Proportion of seats held by women in national parliaments (%)  \\\n",
      "Country Name                                                                   \n",
      "Belize                                                       NaN               \n",
      "Bermuda                                                      NaN               \n",
      "Canada                                                      22.1               \n",
      "Costa Rica                                                  36.8               \n",
      "El Salvador                                                 16.7               \n",
      "Guatemala                                                   12.0               \n",
      "Honduras                                                    23.4               \n",
      "Mexico                                                      23.2               \n",
      "Nicaragua                                                   18.5               \n",
      "Panama                                                      16.7               \n",
      "United States                                               17.0               \n",
      "\n",
      "               School enrollment, primary (% net)  \\\n",
      "Country Name                                        \n",
      "Belize                                  93.832787   \n",
      "Bermuda                                       NaN   \n",
      "Canada                                        NaN   \n",
      "Costa Rica                                    NaN   \n",
      "El Salvador                             94.398590   \n",
      "Guatemala                               93.686127   \n",
      "Honduras                                89.579269   \n",
      "Mexico                                  94.913643   \n",
      "Nicaragua                               97.264427   \n",
      "Panama                                  97.005821   \n",
      "United States                           95.116890   \n",
      "\n",
      "               Self-employed, total (% of total employment)  Trade (% of GDP)  \\\n",
      "Country Name                                                                    \n",
      "Belize                                            29.599001        132.024218   \n",
      "Bermuda                                                 NaN               NaN   \n",
      "Canada                                            15.622000         66.924231   \n",
      "Costa Rica                                        27.177000         86.934430   \n",
      "El Salvador                                       40.618000         80.665991   \n",
      "Guatemala                                         46.452999         64.125244   \n",
      "Honduras                                          51.724998        135.748955   \n",
      "Mexico                                            33.583000         57.777032   \n",
      "Nicaragua                                         49.387001         96.793985   \n",
      "Panama                                            30.667000        166.698578   \n",
      "United States                                     10.431000         29.941410   \n",
      "\n",
      "               Tuberculosis death rate (per 100,000 people), including HIV  \n",
      "Country Name                                                                \n",
      "Belize                                                      5.10            \n",
      "Bermuda                                                     0.32            \n",
      "Canada                                                      0.40            \n",
      "Costa Rica                                                  1.50            \n",
      "El Salvador                                                 1.60            \n",
      "Guatemala                                                   2.80            \n",
      "Honduras                                                    5.20            \n",
      "Mexico                                                      2.40            \n",
      "Nicaragua                                                   3.60            \n",
      "Panama                                                      6.10            \n",
      "United States                                               0.22            \n",
      "\n"
     ]
    },
    {
     "name": "stdout",
     "output_type": "stream",
     "text": [
      "[11 rows x 30 columns]\n"
     ]
    }
   ],
   "source": [
    "# Slicing the row by region using .loc[]\n",
    "n_america = worldbank.loc[:, :] [worldbank.loc[:, 'Cool Name'] == 'Hot Rod'] \n",
    "s_america = worldbank.loc[:, :] [worldbank.loc[:, 'Cool Name'] == 'Ironhide']\n",
    "carribean  = worldbank.loc[:, :] [worldbank.loc[:, 'Cool Name'] == 'Ratchet'] \n",
    "e_europe = worldbank.loc[:, :] [worldbank.loc[:, 'Cool Name'] == 'Skids & Mudflap'] \n",
    "w_europe = worldbank.loc[:, :] [worldbank.loc[:, 'Cool Name'] == 'Jetfire'] \n",
    "russia = worldbank.loc[:, :] [worldbank.loc[:, 'Cool Name'] == 'Mirage'] \n",
    "e_asia = worldbank.loc[:, :] [worldbank.loc[:, 'Cool Name'] == 'Optimus Prime'] \n",
    "m_asia = worldbank.loc[:, :] [worldbank.loc[:, 'Cool Name'] == 'Dinobots']\n",
    "arabian = worldbank.loc[:, :] [worldbank.loc[:, 'Cool Name'] == 'Wheeljack']\n",
    "n_africa = worldbank.loc[:, :] [worldbank.loc[:, 'Cool Name'] == 'Bumblebee'] \n",
    "sah_africa = worldbank.loc[:, :] [worldbank.loc[:, 'Cool Name'] == 'Sideswipe'] \n",
    "s_africa = worldbank.loc[:, :] [worldbank.loc[:, 'Cool Name'] == 'Jazz'] \n",
    "austrailia = worldbank.loc[:, :] [worldbank.loc[:, 'Cool Name'] == 'Cliffhanger']\n",
    "world  = worldbank.loc[:, :] [worldbank.loc[:, 'Cool Name'] == 'Sentinel Prime'] \n",
    "\n",
    "# Slicing the column by category using .loc[]\n",
    "economic_worldbank = worldbank.iloc[:, [0, 1, 2, 3, 5, 9, 12, 13, 22, 23, 27, 28]]\n",
    "health_worldbank = worldbank.iloc[:, [0, 1, 2, 3, 4, 5, 11, 14, 15, 16, 18, 23, 29]]\n",
    "infrastucture_worldbank = worldbank.iloc[:, [0, 1, 2, 3, 5, 10, 15, 16, 17, 23, 28]]\n",
    "\n",
    "# Print our team's dataset\n",
    "print(n_america)"
   ]
  },
  {
   "cell_type": "markdown",
   "metadata": {
    "deletable": false,
    "editable": false,
    "id": "VyHUKcUkeEaF"
   },
   "source": [
    "<br>\n",
    "\n",
    "---\n",
    "<br>\n",
    "\n",
    "## <b> Statistical analysis </b>\n",
    "\n"
   ]
  },
  {
   "cell_type": "markdown",
   "metadata": {
    "deletable": false,
    "editable": false,
    "id": "HsPAFZANLS1Z"
   },
   "source": [
    "<br>\n",
    "\n",
    "### <b> Select top 5 features of the dataset <b></b>\n",
    "\n",
    "<br> Selecting the top 5 parameters that are unique for the North American and the Latin America (NALA). \n",
    "The whole region is a mixture of all the income levels from lower to high income. To understand the parameters affecting the region and to narrowing down the number of variables we took double analysis approach, firstly by analyzing the Political, Economic, Social, Technological, Environment and Legal situation in the region. Secondly, getting clarity through the meta description of each parameter and missing values.\n",
    "Furthermore, analyzing the new subset of parameters using the “mean”. We compared the NALA region mean with the world region using changing condition method, that resulted a true value for 13 parameters. That is, the mean of 13 parameter of NALA region was greater than the world mean. \n",
    "    \n",
    "<br>To pick the 5 parameters that define NALA region and makes it unique among the world we used the scatter plot to define each country of the region. We used Income (Lower, Upper Middle, High) on x-axis as an ordinal data to get the correlation between region, country, and variables.</b>\n",
    "\n",
    "<b> &nbsp; Key Finding:</b> Analyzing each parameter, we came with 5 parameters that were unique for NALA region and assigned them a code to make the report interactive for the user and see the analysis of each variable. \n",
    "\n",
    "> <li>1\tEmployment to population ratio, 15+, male (%) (modeled ILO estimate) - e2\n",
    "> <li>2\tImproved sanitation facilities (% of population with access) - i2\n",
    "> <li>3\tImproved water source (% of population with access) - i3\n",
    "> <li>4\tLife expectancy at birth, total (years) - l1\n",
    "> <li>5\tSchool enrollment, primary (% net) - s1\n",
    "\n",
    "Using the scatter plot, we visualized that the above parameters makes our region unique among other regions as our countries in each income group are in the upper quadrant of the scatter plot. \n",
    "    \n",
    "<br><b>To visualize the scatter plots please type in the codes (e2, i2, i3, l1, s1) as above for the respective variable.<b></b>\n",
    "<br>"
   ]
  },
  {
   "cell_type": "code",
   "execution_count": 3,
   "metadata": {
    "code_folding": [
     4
    ],
    "colab": {
     "base_uri": "https://localhost:8080/",
     "height": 418
    },
    "deletable": false,
    "editable": false,
    "id": "BXgl0EKLDv--",
    "outputId": "fe2021a6-1c6b-46c0-9f2e-13b0bcedcbb4"
   },
   "outputs": [
    {
     "name": "stdout",
     "output_type": "stream",
     "text": [
      "Enter y-axis feature code :  e2\n"
     ]
    },
    {
     "data": {
      "image/png": "[encoded data removed]",
      "text/plain": [
       "<Figure size 1114.25x432 with 1 Axes>"
      ]
     },
     "metadata": {
      "needs_background": "light"
     },
     "output_type": "display_data"
    }
   ],
   "source": [
    "#  Relabel the series of columns and create a collection\n",
    "series_collection = {}\n",
    "series_collection = {\n",
    "      'a1': ['Adolescent fertility rate (births per 1,000 women ages 15-19)', 'Adolescent fertility rate'],\n",
    "      'c1': ['CO2 emissions (metric tons per capita)', 'CO2 emissions'],\n",
    "      'c2': ['Contributing family workers, total (% of total employment)', 'Contributing family workers, total'],\n",
    "      'e1': ['Employment to population ratio, 15+, female (%) (modeled ILO estimate)', 'Employment to population ratio, 15+, female'],\n",
    "      'e2': ['Employment to population ratio, 15+, male (%) (modeled ILO estimate)', 'Employment to population ratio, 15+, male'],\n",
    "      'e3': ['Employment to population ratio, 15+, total (%) (modeled ILO estimate)', 'Employment to population ratio, 15+, total'],\n",
    "      'e4': ['Energy use (kg of oil equivalent) per $1,000 GDP (constant 2011 PPP)', 'Energy use per $1,000 GDP'],\n",
    "      'f1': ['Fertility rate, total (births per woman)', 'Fertility rate'],\n",
    "      'g1': ['GDP per person employed (constant 2011 PPP $)', 'GDP per person employed'],\n",
    "      'g2': ['GNI per capita, Atlas method (current US$)', 'GNI per capita'],\n",
    "      'i1': ['Immunization, measles (% of children ages 12-23 months)', 'Immunization, measles'],\n",
    "      'i2': ['Improved sanitation facilities (% of population with access)', 'Improved sanitation facilities'],\n",
    "      'i3': ['Improved water source (% of population with access)', 'Improved water source'],\n",
    "      'i4': ['Internet users (per 100 people)', 'Internet users'],\n",
    "      'l1': ['Life expectancy at birth, total (years)', 'Life expectancy at birth'],\n",
    "      'm1': ['Maternal mortality ratio (modeled estimate, per 100,000 live births)', 'Maternal mortality ratio'],\n",
    "      'm2': ['Mobile cellular subscriptions (per 100 people)', 'Mobile cellular subscriptions'],\n",
    "      'm3': ['Mortality rate, infant (per 1,000 live births)', 'Mortality rate'],\n",
    "      'n1': ['Net ODA received per capita (current US$)', 'Net ODA received per capita'],\n",
    "      'p1': ['Population, total', 'Population, total'],\n",
    "      'p2': ['Prevalence of undernourishment (% of population)', 'Prevalence of undernourishment'],\n",
    "      'p3': ['Proportion of seats held by women in national parliaments (%)', 'Proportion of seats held by women in national parliaments'],\n",
    "      's1': ['School enrollment, primary (% net)', 'School enrollment, primary'],\n",
    "      's2': ['Self-employed, total (% of total employment)', 'Self-employed, total'],\n",
    "      't1': ['Trade (% of GDP)', 'Trade (% of GDP)'],\n",
    "      't2': ['Tuberculosis death rate (per 100,000 people), including HIV', 'Tuberculosis death rate']\n",
    "}\n",
    "\n",
    "# Make a scatter plots\n",
    "idxcode = input(\"Enter y-axis feature code :  \")\n",
    "if idxcode in series_collection :\n",
    "    sns.set_palette(sns.color_palette(\"pastel\"))\n",
    "    sns.catplot(x         = 'Income Group',                # x-variable\n",
    "                y         = series_collection[idxcode][0], # y-variable\n",
    "                hue       = 'Hult Region',                 # hue\n",
    "                height    = 6,                             # height\n",
    "                aspect    = 2,                             # aspect\n",
    "                jitter    = True,                          # jitter\n",
    "                palette   = [\"C0\", \"C1\", \"C2\",\"C3\",\"C4\",\"C5\",\"C6\",\"C7\",\"C8\",\"C9\",\"k\",\"C11\",\"C12\",\"C13\"], # change color palette\n",
    "                data      = worldbank)                     # DataFrame where features exist\n",
    "    # Adds a title and label\n",
    "    plt.title(label = 'Distribution of ' + series_collection[idxcode][0])\n",
    "    plt.ylabel(ylabel = series_collection[idxcode][1])\n",
    "\n",
    "    # Save a image to analysis_images folders\n",
    "    plt.savefig(fname = './analysis_images/scatterplot of ' + series_collection[idxcode][1] + '.png')\n",
    "\n",
    "    plt.show()\n",
    "    \n",
    "else :\n",
    "    print('Invalid code format')\n",
    "    \n"
   ]
  },
  {
   "cell_type": "markdown",
   "metadata": {
    "deletable": false,
    "editable": false,
    "id": "-OwNk_olicxA"
   },
   "source": [
    "<br>\n",
    "\n",
    "---\n",
    "<br>\n",
    "\n",
    "# <b> &nbsp;Formulate a strategy for missing values </b>\n",
    "\n",
    "<br> \n",
    "Missing values can affect the data visualization by creating a bias in the results. To find the missing value we used a two-layer strategy, firstly by finding the missing value using the mean/median.  Secondly by comparing new value (mean/median) to the actual world bank data through our research.\n",
    "\n",
    "> <li> \tTo find the missing values we started with auditing the quality of data using .info(). Going forward we counted the missing values in the dataset per column in which we found a total 6 missing values in all the columns.\n",
    "    \n",
    "> <li> Finding the percentage of the missing value that helps in getting to know whether we can apply the Freedman-Diaconis Rule. But we found 27% of the values were missing in s1 followed by e2, i2 and i3 at 9%.\n",
    "    \n",
    "> <li> Flagging the missing values: Creating a column to flag the missing values, finding the sum and value count to check the assignment of the missing values.\n",
    "    \n",
    "> <li> Dropping the missing values: Using the condition and creating a copy of the dataset to further drop the missing value\n",
    "    \n",
    "> <li> Histogram: We created a histogram using the loop to create an interactive platform for the user. We analyzed each parameter plot and the medium of each.\n",
    "    \n",
    "   \n",
    "<br><br>"
   ]
  },
  {
   "cell_type": "markdown",
   "metadata": {
    "deletable": false,
    "editable": false
   },
   "source": [
    " **Audit data quality of dataset**"
   ]
  },
  {
   "cell_type": "code",
   "execution_count": 4,
   "metadata": {
    "deletable": false,
    "editable": false
   },
   "outputs": [
    {
     "name": "stdout",
     "output_type": "stream",
     "text": [
      "<class 'pandas.core.frame.DataFrame'>\n",
      "Index: 11 entries, Belize to United States\n",
      "Data columns (total 9 columns):\n",
      " #   Column                                                                Non-Null Count  Dtype  \n",
      "---  ------                                                                --------------  -----  \n",
      " 0   Country Code Total                                                    11 non-null     object \n",
      " 1   Income Group                                                          11 non-null     object \n",
      " 2   Hult Region                                                           11 non-null     object \n",
      " 3   Cool Name                                                             11 non-null     object \n",
      " 4   Employment to population ratio, 15+, male (%) (modeled ILO estimate)  10 non-null     float64\n",
      " 5   Improved sanitation facilities (% of population with access)          10 non-null     float64\n",
      " 6   Improved water source (% of population with access)                   10 non-null     float64\n",
      " 7   Life expectancy at birth, total (years)                               11 non-null     float64\n",
      " 8   School enrollment, primary (% net)                                    8 non-null      float64\n",
      "dtypes: float64(5), object(4)\n",
      "memory usage: 880.0+ bytes\n"
     ]
    }
   ],
   "source": [
    "# Make a Top 5 dataset\n",
    "n_america_top5 = n_america.iloc[:, [0, 1, 2, 3, 8, 15, 16, 18, 26]]\n",
    "\n",
    "# Auditing data quality of dataset\n",
    "n_america_top5.info()"
   ]
  },
  {
   "cell_type": "markdown",
   "metadata": {
    "deletable": false,
    "editable": false,
    "id": "6NzjCB6G0sqY"
   },
   "source": [
    "**Creating missing value flags**"
   ]
  },
  {
   "cell_type": "code",
   "execution_count": 5,
   "metadata": {
    "colab": {
     "base_uri": "https://localhost:8080/"
    },
    "deletable": false,
    "editable": false,
    "id": "pmUMRELlgZku",
    "outputId": "baeb47b5-7ffa-4dbb-8f1b-847a83c0bc6d"
   },
   "outputs": [
    {
     "name": "stderr",
     "output_type": "stream",
     "text": [
      "<ipython-input-5-0fbe41f922ee>:5: SettingWithCopyWarning: \n",
      "A value is trying to be set on a copy of a slice from a DataFrame.\n",
      "Try using .loc[row_indexer,col_indexer] = value instead\n",
      "\n",
      "See the caveats in the documentation: https://pandas.pydata.org/pandas-docs/stable/user_guide/indexing.html#returning-a-view-versus-a-copy\n",
      "  n_america_top5['m_'+name] = n_america_top5[name].isnull().astype(int)\n"
     ]
    }
   ],
   "source": [
    "# Creating missing value flags\n",
    "for name in n_america_top5.columns :\n",
    "\n",
    "    if n_america_top5[name].isnull().astype(int).sum() > 0:\n",
    "        n_america_top5['m_'+name] = n_america_top5[name].isnull().astype(int)"
   ]
  },
  {
   "cell_type": "markdown",
   "metadata": {
    "deletable": false,
    "editable": false,
    "id": "KbLUNy7E1u9v"
   },
   "source": [
    "**Drop missing values from the copied dataset so that they do not cause undue complications when generating plots**"
   ]
  },
  {
   "cell_type": "code",
   "execution_count": 6,
   "metadata": {
    "colab": {
     "base_uri": "https://localhost:8080/"
    },
    "deletable": false,
    "editable": false,
    "id": "NvHTSlGzVd6q",
    "outputId": "86d47106-b949-43b1-e6cc-c154c021a0b9"
   },
   "outputs": [
    {
     "name": "stdout",
     "output_type": "stream",
     "text": [
      "df_dropped_4 -----> 0\n",
      "df_dropped_5 -----> 0\n",
      "df_dropped_6 -----> 0\n",
      "df_dropped_7 -----> 0\n",
      "df_dropped_8 -----> 0\n"
     ]
    }
   ],
   "source": [
    "# Drop missing values from the copied dataset so that they do not cause undue complications when generating plots\n",
    "\n",
    "for col in range(4, 9) :\n",
    "    # makes the new DataFrame\n",
    "    globals()['df_dropped_%s' % col] = pd.DataFrame.copy(n_america.iloc[:,col])\n",
    "    \n",
    "    # using dropna() for df_dropped\n",
    "    locals()[\"df_dropped_\"+str(col)] = locals()[\"df_dropped_\"+str(col)].dropna().round(2)\n",
    "\n",
    "    # checking to see if all missing values have been dropped\n",
    "    print('df_dropped_%s' % col, '----->', locals()[\"df_dropped_\"+str(col)].isnull().sum())\n"
   ]
  },
  {
   "cell_type": "markdown",
   "metadata": {
    "id": "JIfH4NzJ11w1"
   },
   "source": [
    "## Develop histogram and display the plot"
   ]
  },
  {
   "cell_type": "code",
   "execution_count": 7,
   "metadata": {
    "deletable": false,
    "editable": false,
    "id": "--ARXyO7jMNx"
   },
   "outputs": [],
   "source": [
    "#  Relabel the series of columns and create a collection\n",
    "series_collection = {}\n",
    "series_collection = {\n",
    "      'e2': [df_dropped_4, 'fd', 'Employment to population ratio, 15+, male (%) (modeled ILO estimate)', 'Employment to population ratio, 15+, male', worldbank.iloc[:,4], n_america_top5.iloc[:,4]],\n",
    "      'i2': [df_dropped_5, 'fd', 'Improved sanitation facilities (% of population with access)', 'Improved sanitation facilities', worldbank.iloc[:,5], n_america_top5.iloc[:,5]],\n",
    "      'i3': [df_dropped_6, 'fd', 'Improved water source (% of population with access)', 'Improved water source', worldbank.iloc[:,6], n_america_top5.iloc[:,6]],\n",
    "      'l1': [df_dropped_7, 'fd', 'Life expectancy at birth, total (years)', 'Life expectancy at birth', worldbank.iloc[:,7], n_america_top5.iloc[:,7]],\n",
    "      's1': [df_dropped_8, 'fd', 'School enrollment, primary (% net)', 'School enrollment, primary', worldbank.iloc[:,8], n_america_top5.iloc[:,8]],\n",
    "}"
   ]
  },
  {
   "cell_type": "markdown",
   "metadata": {
    "id": "mMGaD9ej17RN"
   },
   "source": [
    "**Develop histogram and display the plot**\n",
    "\n",
    "<b> &emsp;To visualize, please type in the codes (e2, i2, i3, l1, s1) as above for the respective variable.</b>\n",
    "   \n",
    "   "
   ]
  },
  {
   "cell_type": "code",
   "execution_count": 9,
   "metadata": {
    "cell_style": "center",
    "colab": {
     "base_uri": "https://localhost:8080/",
     "height": 369
    },
    "deletable": false,
    "editable": false,
    "id": "tFXksCnUUJcX",
    "outputId": "197dbab8-6106-4e7c-debf-7ec93ee0c839"
   },
   "outputs": [
    {
     "name": "stdout",
     "output_type": "stream",
     "text": [
      "Enter an Indicator code :  s1\n"
     ]
    },
    {
     "name": "stderr",
     "output_type": "stream",
     "text": [
      "C:\\Applications\\anaconda3\\lib\\site-packages\\seaborn\\distributions.py:2551: FutureWarning: `distplot` is a deprecated function and will be removed in a future version. Please adapt your code to use either `displot` (a figure-level function with similar flexibility) or `histplot` (an axes-level function for histograms).\n",
      "  warnings.warn(msg, FutureWarning)\n"
     ]
    },
    {
     "data": {
      "image/png": "[encoded data removed]",
      "text/plain": [
       "<Figure size 432x288 with 1 Axes>"
      ]
     },
     "metadata": {
      "needs_background": "light"
     },
     "output_type": "display_data"
    }
   ],
   "source": [
    "# Develop histogram and display the plot\n",
    "\n",
    "idxcode = input(\"Enter an Indicator code :  \")\n",
    "if idxcode in series_collection :\n",
    "    sns.distplot(a     = series_collection[idxcode][0],\n",
    "                 bins  = series_collection[idxcode][1],\n",
    "                 hist  = True,\n",
    "                 kde   = False,\n",
    "                 rug   = False,\n",
    "                 color = 'black')\n",
    "\n",
    "    # Adds a title\n",
    "    plt.title(label = 'Distribution of ' + series_collection[idxcode][2])\n",
    "\n",
    "    # Add an x-label\n",
    "    plt.xlabel(xlabel = series_collection[idxcode][3])\n",
    "\n",
    "    # Add a y-label\n",
    "    plt.ylabel(ylabel = 'Frequency')\n",
    "\n",
    "    # Add vertical lines - Mean\n",
    "    plt.axvline(x = series_collection[idxcode][0].mean(),\n",
    "                color = 'red')\n",
    "\n",
    "    # Add vertical lines - Median\n",
    "    plt.axvline(x = series_collection[idxcode][0].median(),\n",
    "                color = 'blue')\n",
    "\n",
    "    # Adds a legend\n",
    "    plt.legend(labels =  ['mean', 'median'])\n",
    "    \n",
    "    # Save a image to analysis_images folders\n",
    "    plt.savefig(fname = './analysis_images/histogram of ' + series_collection[idxcode][3] + '.png')\n",
    "\n",
    "    # these compile and display the plot so that it is formatted as expected\n",
    "    plt.tight_layout()\n",
    "    plt.show()\n",
    "\n",
    "else :\n",
    "    print('Invalid code format')\n"
   ]
  },
  {
   "cell_type": "markdown",
   "metadata": {
    "deletable": false,
    "editable": false,
    "id": "dD9M7KYb2D_g"
   },
   "source": [
    "**Imputing values into the N/A cells**\n",
    "\n",
    "> <li> Median: since the distribution for all the parameters appears skewed positive, the median better represents the center of this distribution. We choose the median to fill in missing values.\n",
    "    \n",
    "> <li> Imputing the values: The medians observed for each parameter is then compared to the valued that we obtained by searching a on different domains. Further to which we imputed values in missing value (N/A cells)\n",
    "    \n",
    "> <li> Imputed distribution: The aim of imputing the missing values is to create a normal distribution chart or with minimum skewness. Let us look at figure- X, we can see the imputed distribution is closer to median and displays a normal distribution. \n",
    "\n",
    "<b> &emsp; Key Finding:</b>\n",
    "    The imputed values in the missing values are correct and creates a normal distribution. <br>\n",
    "    \n",
    "<b> &emsp;To visualize, please type in the codes (e2, i2, i3, l1, s1) as above for the respective variable.</b>\n",
    "    \n",
    "   "
   ]
  },
  {
   "cell_type": "code",
   "execution_count": 10,
   "metadata": {
    "colab": {
     "base_uri": "https://localhost:8080/"
    },
    "deletable": false,
    "editable": false,
    "id": "IGwDk4j8d3p5",
    "outputId": "8cb7e728-1570-4c71-dce4-55de5c5d98c3",
    "scrolled": true
   },
   "outputs": [
    {
     "name": "stdout",
     "output_type": "stream",
     "text": [
      "True\n"
     ]
    },
    {
     "name": "stderr",
     "output_type": "stream",
     "text": [
      "<ipython-input-10-1bd775f88e83>:2: SettingWithCopyWarning: \n",
      "A value is trying to be set on a copy of a slice from a DataFrame\n",
      "\n",
      "See the caveats in the documentation: https://pandas.pydata.org/pandas-docs/stable/user_guide/indexing.html#returning-a-view-versus-a-copy\n",
      "  n_america_top5.loc['Canada']['School enrollment, primary (% net)'] = 100\n",
      "<ipython-input-10-1bd775f88e83>:3: SettingWithCopyWarning: \n",
      "A value is trying to be set on a copy of a slice from a DataFrame\n",
      "\n",
      "See the caveats in the documentation: https://pandas.pydata.org/pandas-docs/stable/user_guide/indexing.html#returning-a-view-versus-a-copy\n",
      "  n_america_top5.loc['Costa Rica']['School enrollment, primary (% net)'] = 97\n"
     ]
    }
   ],
   "source": [
    "# Imputing values into the N/A cells\n",
    "n_america_top5.loc['Canada']['School enrollment, primary (% net)'] = 100\n",
    "n_america_top5.loc['Costa Rica']['School enrollment, primary (% net)'] = 97\n",
    "\n",
    "# Checking to make sure NAs are filled in\n",
    "print(n_america_top5.loc[:,'School enrollment, primary (% net)'].isnull().any())"
   ]
  },
  {
   "cell_type": "markdown",
   "metadata": {
    "deletable": false,
    "editable": false,
    "id": "Wi7i5PY82biH"
   },
   "source": [
    "**Overlay the original and imputed distrubutions**"
   ]
  },
  {
   "cell_type": "code",
   "execution_count": 11,
   "metadata": {
    "cell_style": "center",
    "colab": {
     "base_uri": "https://localhost:8080/",
     "height": 476
    },
    "id": "xvTX1WNQ98_k",
    "outputId": "f7999a39-ef21-4278-a616-b5e510feb71d"
   },
   "outputs": [
    {
     "name": "stdout",
     "output_type": "stream",
     "text": [
      "Enter an Indicator code :  s1\n"
     ]
    },
    {
     "name": "stderr",
     "output_type": "stream",
     "text": [
      "C:\\Applications\\anaconda3\\lib\\site-packages\\seaborn\\distributions.py:2551: FutureWarning: `distplot` is a deprecated function and will be removed in a future version. Please adapt your code to use either `displot` (a figure-level function with similar flexibility) or `histplot` (an axes-level function for histograms).\n",
      "  warnings.warn(msg, FutureWarning)\n",
      "C:\\Applications\\anaconda3\\lib\\site-packages\\seaborn\\distributions.py:2551: FutureWarning: `distplot` is a deprecated function and will be removed in a future version. Please adapt your code to use either `displot` (a figure-level function with similar flexibility) or `histplot` (an axes-level function for histograms).\n",
      "  warnings.warn(msg, FutureWarning)\n"
     ]
    },
    {
     "data": {
      "image/png": "[encoded data removed]",
      "text/plain": [
       "<Figure size 576x360 with 1 Axes>"
      ]
     },
     "metadata": {
      "needs_background": "light"
     },
     "output_type": "display_data"
    }
   ],
   "source": [
    "# Overlay the original and imputed distrubutions\n",
    "\n",
    "# Setting figure size\n",
    "fig, ax = plt.subplots(figsize = [8, 5],\n",
    "                       sharex = True, # sharing x-axis between visualizations\n",
    "                       sharey = True) # sharing y-axis between visualizations\n",
    "\n",
    "idxcode = input(\"Enter an Indicator code :  \")\n",
    "if idxcode in series_collection :\n",
    "    \n",
    "    # Original Distribution\n",
    "    sns.distplot(a     = series_collection[idxcode][0],\n",
    "                 bins  = series_collection[idxcode][1],\n",
    "                 hist  = True,\n",
    "                 kde   = True,   # activating kde\n",
    "                 rug   = False,\n",
    "                 color = 'black')\n",
    "    \n",
    "    # Imputed Distribution\n",
    "    sns.distplot(a     = series_collection[idxcode][5],\n",
    "                 bins  = series_collection[idxcode][1],\n",
    "                 hist  = True,\n",
    "                 kde   = True, # activating kde\n",
    "                 rug   = False,\n",
    "                 color = 'gray')\n",
    "\n",
    "    # Titles, Labels\n",
    "    plt.title(label   = series_collection[idxcode][2])\n",
    "    plt.xlabel(xlabel = series_collection[idxcode][3])\n",
    "    plt.ylabel(ylabel = 'Frequency')\n",
    "\n",
    "    # Adds a legend\n",
    "    plt.legend(labels =  ['original distribution',\n",
    "                          'imputed distribution'])\n",
    "\n",
    "    # Save a image to analysis_images folders\n",
    "    plt.savefig(fname = './analysis_images/overlay_histogram of ' + series_collection[idxcode][3] + '.png')\n",
    "    \n",
    "    # These compile and display the plot so that it is formatted as expected\n",
    "    plt.tight_layout()\n",
    "    plt.show()\n",
    "\n",
    "else :\n",
    "    print('Invalid code format')"
   ]
  },
  {
   "cell_type": "markdown",
   "metadata": {
    "deletable": false,
    "editable": false,
    "id": "FDgGhGGi2RUp"
   },
   "source": [
    "**Saving the new dataset to Excel**"
   ]
  },
  {
   "cell_type": "code",
   "execution_count": 12,
   "metadata": {
    "deletable": false,
    "editable": false,
    "id": "kwxTjAQudRRV"
   },
   "outputs": [],
   "source": [
    "# Saving the new dataset to Excel\n",
    "n_america_top5.to_excel(excel_writer = \"./saved_datasets/Team_12_dataset_imputed.xlsx\",\n",
    "                        sheet_name = 'Data_imputed',\n",
    "                        index = False)"
   ]
  },
  {
   "cell_type": "markdown",
   "metadata": {
    "deletable": false,
    "editable": false,
    "id": "X-p5NZUpi63H"
   },
   "source": [
    "<br>\n",
    "\n",
    "---\n",
    "<br>\n",
    "\n",
    "# <b> Identifying potential outliers </b>\n",
    "\n",
    "<br> The strategy we used for identifying outliers is as following, \n",
    "•\tWe created a standard boxplot for a single quantitive feature for ‘The North America & Part of Latin America’. \n",
    "•\tAnnotated the outlier threshold with a vertical line.\n",
    "•\tFlag potential outliers with a column of 1 and 0, 1 being equal to potential outliers.\n",
    "•\tCheck that the result for the code imputed before was correct.\n",
    "•\tLastly saving the new dataset to Excel.\n",
    "Following this strategy we identified 2 columns where there are potential outliers. The first one being the employment to population ratio, 15+, male (%) (modeled ILO estimate) whose indicator code  is e2. The second outlier found was school enrollment, primary which indicator code is s1. \n",
    "\n",
    "\n",
    "\n",
    "&emsp; <b> Explain your strategy for identifying outliers.\n",
    "<br><br> </b>\n",
    "\n",
    "&emsp; Making process\n",
    "> <li> Output a standard boxplot for a single quantitative feature for 'The North America & Part of Latin America' \n",
    "> <li> Annotate outlier threshold with a vertical line \n",
    "> <li> Flag potential outliers with a column of ones and zeros (1 == potential outlier)\n",
    "> <li> Checking the results of the code above \n",
    "> <li> Saving the new dataset to Excel </li>\n",
    "\n",
    "\n",
    "<p> &ensp; We identify 2 columns where potential outliers are existed. </p>\n",
    "\n",
    "> <li> Employment to population ratio, 15+, male (%) (modeled ILO estimate) - label name e2\n",
    "> <li> School enrollment, primary (% net) - s1"
   ]
  },
  {
   "cell_type": "markdown",
   "metadata": {},
   "source": [
    "**Output a standard boxplot for a single quantitative feature for 'The North America & Part of Latin America'**"
   ]
  },
  {
   "cell_type": "code",
   "execution_count": 13,
   "metadata": {
    "cell_style": "center",
    "code_folding": [],
    "colab": {
     "base_uri": "https://localhost:8080/",
     "height": 367
    },
    "deletable": false,
    "editable": false,
    "id": "Yz1K2x0sKZSG",
    "outputId": "cec710e1-840b-40c6-aef7-9f1b78653db8"
   },
   "outputs": [
    {
     "name": "stdout",
     "output_type": "stream",
     "text": [
      "Enter Indicator code :  e2\n"
     ]
    },
    {
     "data": {
      "image/png": "[encoded data removed]",
      "text/plain": [
       "<Figure size 720x360 with 1 Axes>"
      ]
     },
     "metadata": {
      "needs_background": "light"
     },
     "output_type": "display_data"
    }
   ],
   "source": [
    "# Output a standard boxplot for a single quantitative feature\n",
    "\n",
    "# Set vertical lines for outlier threshold\n",
    "\n",
    "# Setting figure size\n",
    "fig, ax = plt.subplots(figsize = (10, 5))\n",
    "\n",
    "idxcode = input(\"Enter Indicator code :  \")\n",
    "if idxcode in series_collection :\n",
    "    # Developing a boxplot\n",
    "    sns.boxplot(x      = series_collection[idxcode][5],  # x-variable\n",
    "                y      = None,                           # optional y-variable\n",
    "                hue    = None,                           # optional categorical feature\n",
    "                orient = 'h',                            # horizontal or vertical\n",
    "                data   = n_america)                      # DataFrame where features exist\n",
    "\n",
    "    # Add a title\n",
    "    plt.title(label = 'Boxplot for ' + series_collection[idxcode][2])\n",
    "\n",
    "    # Add vertical lines for mean\n",
    "    plt.axvline(x = series_collection[idxcode][5].mean(), label = 'mean',\n",
    "                linestyle = '--', color = 'red')\n",
    "\n",
    "    # Add a legend\n",
    "    plt.legend(loc='upper right')\n",
    "\n",
    "    # Add an x-label\n",
    "    plt.xlabel(xlabel = series_collection[idxcode][3])\n",
    "    \n",
    "    # Save a image to analysis_images folders\n",
    "    plt.savefig(fname = './analysis_images/boxplot of ' + series_collection[idxcode][3] + '.png')\n",
    "\n",
    "    # formatting and displaying the plot\n",
    "    plt.show()\n",
    "\n",
    "else :\n",
    "    print('Invalid code format')\n"
   ]
  },
  {
   "cell_type": "markdown",
   "metadata": {},
   "source": [
    "**Annotate outlier threshold with a vertical line**"
   ]
  },
  {
   "cell_type": "code",
   "execution_count": 14,
   "metadata": {
    "cell_style": "center",
    "code_folding": [],
    "colab": {
     "base_uri": "https://localhost:8080/",
     "height": 367
    },
    "deletable": false,
    "editable": false,
    "id": "7Kxnm4ZSysKr",
    "outputId": "f290a2ed-1543-4d46-8905-b157a76ba07a"
   },
   "outputs": [
    {
     "name": "stdout",
     "output_type": "stream",
     "text": [
      "Enter Indicator code :  e2\n"
     ]
    },
    {
     "data": {
      "image/png": "[encoded data removed]",
      "text/plain": [
       "<Figure size 720x360 with 1 Axes>"
      ]
     },
     "metadata": {
      "needs_background": "light"
     },
     "output_type": "display_data"
    }
   ],
   "source": [
    "# Annotate outlier threshold with a vertical line\n",
    "\n",
    "# setting figure size\n",
    "fig, ax = plt.subplots(figsize = (10, 5))\n",
    "\n",
    "idxcode = input(\"Enter Indicator code :  \")\n",
    "if idxcode in series_collection :\n",
    "    # Developing a boxplot\n",
    "    sns.boxplot(x      = series_collection[idxcode][5],  # x-variable\n",
    "                y      = None,     # optional y-variable\n",
    "                hue    = None,     # optional categorical feature\n",
    "                orient = 'h',      # horizontal or vertical\n",
    "                data   = n_america_top5) # DataFrame where features exist\n",
    "\n",
    "    # Add a title\n",
    "    plt.title(label = 'Boxplot for ' + series_collection[idxcode][2] + 'with outlier threshold')\n",
    "\n",
    "    # Compute lower limit\n",
    "    lower_limit = series_collection[idxcode][5].quantile(0.25) \\\n",
    "                  - 1.5 * (series_collection[idxcode][5].quantile(0.75) - series_collection[idxcode][5].quantile(0.25))\n",
    "\n",
    "    # Annotate outlier threshold\n",
    "\n",
    "    if 'e2' in idxcode :\n",
    "        plt.text(67.8 * 0.998, 0.47, f'outlier threshold \\n{lower_limit.round(decimals = 2)}', fontsize = 8,\n",
    "                  bbox={'facecolor': 'gray', 'edgecolor': 'gray', 'alpha': 0.2, 'pad': 3}, ha = 'right');\n",
    "        plt.axvline(x = 67.8, label = 'lower limit', linestyle = '--', color = 'gray')\n",
    "    elif 's1' in idxcode :\n",
    "        plt.text(91.11 * 0.9991, 0.47, f'outlier threshold \\n{lower_limit.round(decimals = 2)}', fontsize = 8,\n",
    "                  bbox={'facecolor': 'gray', 'edgecolor': 'gray', 'alpha': 0.2, 'pad': 3}, ha = 'right');\n",
    "        plt.axvline(x = 91.11, label = 'lower limit', linestyle = '--', color = 'gray')\n",
    "    else :\n",
    "        pass        \n",
    "\n",
    "    # Add vertical lines for mean\n",
    "    plt.axvline(x = series_collection[idxcode][5].mean(), label = 'mean',\n",
    "                linestyle = '--', color = 'red')\n",
    "    \n",
    "    # Add a legend\n",
    "    plt.legend(loc='upper right')\n",
    "\n",
    "    # Add an x-label\n",
    "    plt.xlabel(xlabel = series_collection[idxcode][3])\n",
    "    \n",
    "    # Save a image to analysis_images folders\n",
    "    plt.savefig(fname = './analysis_images/boxplot of ' + series_collection[idxcode][3] + ' with outlier threshold.png')\n",
    "\n",
    "    # formatting and displaying the plot\n",
    "    plt.show()\n",
    "\n",
    "else :\n",
    "    print('Invalid code format')"
   ]
  },
  {
   "cell_type": "markdown",
   "metadata": {
    "deletable": false,
    "editable": false,
    "id": "VGanEmRtVxd7"
   },
   "source": [
    "<br>\n",
    "\n",
    "---\n",
    "<br>\n",
    "\n",
    "# <b> Select an \"On average\" country </b>\n",
    "\n",
    "<p> &emsp; After we rank the values per columns, we will find the average range numbers (5 or 6 / 0.5 or 0.6) on the heatmap plot.</p>\n",
    "\n",
    "<br>\n",
    "To select which country best represents are region on average first \n",
    "we ranked the numeric data among the North America & Part of Latin America region. \n",
    "With these values we developed a heat map to have a clear view of how each \n",
    "region ranked on average in our top five categories and shows that \n",
    "the average between the regions is 6. Thus, making it clear that Mexico has \n",
    "the most common average values. Mexico is considered \n",
    "an upper middle-income country with a general trading system and \n",
    "a consolidated central government. \n",
    "\n",
    "<p>\n",
    "<br>\n",
    "Their data in the top 5 columns chosen is as follows: <br>\n"
   ]
  },
  {
   "cell_type": "markdown",
   "metadata": {},
   "source": [
    "<div style = \"width:image width px; font-size:80%; text-align:center;\"><img src=\"./images/Image_Average%20.png\" width=\"600\" height= \"600\" style=\"padding-bottom:0.5em;\"> <em>Table 1: Average by Country (%) </em></div>"
   ]
  },
  {
   "cell_type": "markdown",
   "metadata": {
    "id": "nsWlsL8pzX22"
   },
   "source": [
    "## *For 'The North America & Part of Latin America' region*"
   ]
  },
  {
   "cell_type": "code",
   "execution_count": 15,
   "metadata": {
    "colab": {
     "base_uri": "https://localhost:8080/",
     "height": 721
    },
    "deletable": false,
    "editable": false,
    "id": "PdKaRsEXs_Bx",
    "outputId": "641eb59a-3b04-4590-f314-45ff35d630f1"
   },
   "outputs": [
    {
     "data": {
      "image/png": "[encoded data removed]",
      "text/plain": [
       "<Figure size 432x432 with 2 Axes>"
      ]
     },
     "metadata": {
      "needs_background": "light"
     },
     "output_type": "display_data"
    }
   ],
   "source": [
    "## Rank the numeric data among America regions\n",
    "region_rank = n_america_top5.iloc[:, 4:9].rank(axis = 0, method='min', ascending=True, na_option='bottom')\n",
    "\n",
    "# Develop a heatmap\n",
    "f, ax = plt.subplots(figsize =(6, 6)) \n",
    "sns.heatmap(region_rank, ax = ax, cmap =\"twilight\", linewidths = 0.1, annot= True) \n",
    "\n",
    "# Save a image to analysis_images folders\n",
    "plt.savefig(\"./analysis_images/rank_heatmap_region_n-america.png\") \n",
    "\n",
    "plt.show()"
   ]
  },
  {
   "cell_type": "markdown",
   "metadata": {
    "deletable": false,
    "editable": false,
    "id": "p-sWQjvPzd7h"
   },
   "source": [
    "## *Conclusion*"
   ]
  },
  {
   "cell_type": "markdown",
   "metadata": {
    "cell_style": "center",
    "deletable": false,
    "editable": false
   },
   "source": [
    "<br>\n",
    "Our analysis of the world bank data used descriptive statistics and data visualization to get insights from the large data and narrow it down to 5 top columns that makes NALA a unique region among the worlds.\n",
    "Imputing the missing value provided us insights on Bermuda as a country and the imputed distribution was less skewed than before which tells yes the imputation actually improved the distribution curve. \n",
    "In conclusion, we determined that Mexico was our best ‘average’ representation of our regions due to the findings of our analysis.\n",
    "<br>\n",
    "<br>\n",
    "<br>\n",
    "Our data indicates that Mexico has a fair mix of Latin America and North America characteristics. As with the correlation between countries and 5 parameters, Mexico is the country with most middle correlation.  \n",
    "Also Mexico is in a unique position as a country because historically they benefitted from the previous North American Free Trade Agreement which allowed them to trade with Canada and The US with reduced or no \n",
    "tariffs on certain goods. Although the NAFTA has been dissolved between the three nations there are still trade agreements between them which continue to economically benefit all involved compared to when a \n",
    "country from outside of the region tried to do business with them.<br>\n",
    "<br>"
   ]
  },
  {
   "cell_type": "markdown",
   "metadata": {
    "deletable": false,
    "editable": false
   },
   "source": [
    "<br>\n",
    "Considering the world data in relation to our own we noticed a trend that countries with a high life expectancy are also countries with Middle to High GDP Capita country. Three countries in our dataset appear to align with this hypothesis, Bermuda, Canada, and The United States. Though initially Costa Rica seems to be an anomaly as a Low GDP per capita country with a higher life expectancy than The United States but this can be attributed to the government funded national healthcare insurance scheme that covers and is accessible to majority of the population.\n",
    "Beyond that most of our data was in line with the region and gave us a fairly accurate insight into the characteristics of our region.\n",
    "<br>"
   ]
  },
  {
   "cell_type": "markdown",
   "metadata": {},
   "source": [
    "<div style = \"width:image width px; font-size:80%; text-align:center;\"><img src=\"./images/Mexico.jpeg\" width=\"800\" height=\"800\" style=\"padding-bottom:0.5em;\"> <em>Figure 3: Mexico City </em></div>"
   ]
  },
  {
   "cell_type": "code",
   "execution_count": null,
   "metadata": {},
   "outputs": [],
   "source": []
  }
 ],
 "metadata": {
  "colab": {
   "collapsed_sections": [],
   "name": "Team 12 - Pyscript - Colab Notebooks.ipynb",
   "provenance": [],
   "toc_visible": true
  },
  "kernelspec": {
   "display_name": "Python 3",
   "language": "python",
   "name": "python3"
  },
  "language_info": {
   "codemirror_mode": {
    "name": "ipython",
    "version": 3
   },
   "file_extension": ".py",
   "mimetype": "text/x-python",
   "name": "python",
   "nbconvert_exporter": "python",
   "pygments_lexer": "ipython3",
   "version": "3.8.3"
  },
  "toc": {
   "base_numbering": 1,
   "nav_menu": {},
   "number_sections": true,
   "sideBar": true,
   "skip_h1_title": false,
   "title_cell": "Table of Contents",
   "title_sidebar": "Contents",
   "toc_cell": false,
   "toc_position": {},
   "toc_section_display": true,
   "toc_window_display": false
  },
  "varInspector": {
   "cols": {
    "lenName": 16,
    "lenType": 16,
    "lenVar": 40
   },
   "kernels_config": {
    "python": {
     "delete_cmd_postfix": "",
     "delete_cmd_prefix": "del ",
     "library": "var_list.py",
     "varRefreshCmd": "print(var_dic_list())"
    },
    "r": {
     "delete_cmd_postfix": ") ",
     "delete_cmd_prefix": "rm(",
     "library": "var_list.r",
     "varRefreshCmd": "cat(var_dic_list()) "
    }
   },
   "types_to_exclude": [
    "module",
    "function",
    "builtin_function_or_method",
    "instance",
    "_Feature"
   ],
   "window_display": false
  }
 },
 "nbformat": 4,
 "nbformat_minor": 1
}
